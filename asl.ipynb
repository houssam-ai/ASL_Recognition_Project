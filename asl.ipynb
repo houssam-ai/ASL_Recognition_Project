{
 "cells": [
  {
   "cell_type": "code",
   "execution_count": null,
   "id": "d12ce6a7",
   "metadata": {},
   "outputs": [],
   "source": [
    "import cv2\n",
    "import numpy as np\n",
    "import tensorflow as tf\n",
    "from tensorflow.keras.models import load_model\n",
    "from IPython.display import display, clear_output, Image\n",
    "from PIL import Image as PILImage\n",
    "import io\n",
    "\n",
    "# Load the ASL model\n",
    "classifier = load_model('asl_model.h5')\n",
    "\n",
    "# Mapping between class indices and alphabet labels\n",
    "alphabet_mapping = [\n",
    "    'A', 'B', 'C', 'D', 'E', 'F', 'G', 'H', 'I', 'J', 'K', 'L', 'M', 'N', \n",
    "    'O', 'P', 'Q', 'R', 'S', 'T', 'U', 'V', 'W', 'X', 'Y', 'Z', 'SPACE', \n",
    "    'DELETE', 'NOTHING'\n",
    "]\n",
    "\n",
    "# Start video capture\n",
    "cap = cv2.VideoCapture(0)\n",
    "\n",
    "try:\n",
    "    while True:\n",
    "        # Capture frame-by-frame\n",
    "        ret, frame = cap.read()\n",
    "        if not ret:\n",
    "            print(\"Failed to grab frame\")\n",
    "            break\n",
    "\n",
    "        frame = cv2.flip(frame, 1)\n",
    "\n",
    "        # Define region of interest (ROI) on the right side of the screen\n",
    "        roi = frame[100:400, 700:1000]  # Adjust coordinates as needed\n",
    "        roi = cv2.cvtColor(roi, cv2.COLOR_BGR2GRAY)\n",
    "        roi = cv2.resize(roi, (28, 28), interpolation=cv2.INTER_AREA)\n",
    "        roi = roi.reshape(1, 28, 28, 1) \n",
    "        roi = roi / 255.0  # Normalize the image\n",
    "\n",
    "        # Predict the ASL alphabet\n",
    "        probabilities = classifier.predict(roi)\n",
    "        predicted_class = np.argmax(probabilities)\n",
    "        alphabet_label = alphabet_mapping[predicted_class]\n",
    "\n",
    "        # Display the predicted label on the frame\n",
    "        cv2.rectangle(frame, (700, 100), (1000, 400), (255, 0, 0), 5)  # Highlight ROI\n",
    "        cv2.putText(frame, alphabet_label, (700, 100), cv2.FONT_HERSHEY_COMPLEX, 2, (0, 255, 0), 2)\n",
    "\n",
    "        # Convert the frame to RGB format and display it in Jupyter\n",
    "        frame_rgb = cv2.cvtColor(frame, cv2.COLOR_BGR2RGB)\n",
    "        pil_img = PILImage.fromarray(frame_rgb)\n",
    "\n",
    "        # Display the image in Jupyter\n",
    "        clear_output(wait=True)  # Clear the previous output\n",
    "        display(pil_img)\n",
    "\n",
    "except KeyboardInterrupt:\n",
    "    print(\"Stopped.\")\n",
    "\n",
    "finally:\n",
    "    # Release the video capture object when done\n",
    "    cap.release()\n",
    "    cv2.destroyAllWindows()\n"
   ]
  },
  {
   "cell_type": "code",
   "execution_count": null,
   "id": "b02e0d64",
   "metadata": {},
   "outputs": [],
   "source": []
  },
  {
   "cell_type": "code",
   "execution_count": 5,
   "id": "f8be76f8",
   "metadata": {},
   "outputs": [],
   "source": []
  },
  {
   "cell_type": "code",
   "execution_count": null,
   "id": "16b3eea8",
   "metadata": {},
   "outputs": [],
   "source": []
  },
  {
   "cell_type": "code",
   "execution_count": null,
   "id": "ecfe1454",
   "metadata": {},
   "outputs": [],
   "source": []
  },
  {
   "cell_type": "code",
   "execution_count": null,
   "id": "c1f435ad",
   "metadata": {},
   "outputs": [],
   "source": []
  },
  {
   "cell_type": "code",
   "execution_count": null,
   "id": "b3e6c390",
   "metadata": {},
   "outputs": [],
   "source": []
  }
 ],
 "metadata": {
  "kernelspec": {
   "display_name": "Python 3 (ipykernel)",
   "language": "python",
   "name": "python3"
  },
  "language_info": {
   "codemirror_mode": {
    "name": "ipython",
    "version": 3
   },
   "file_extension": ".py",
   "mimetype": "text/x-python",
   "name": "python",
   "nbconvert_exporter": "python",
   "pygments_lexer": "ipython3",
   "version": "3.11.4"
  }
 },
 "nbformat": 4,
 "nbformat_minor": 5
}
